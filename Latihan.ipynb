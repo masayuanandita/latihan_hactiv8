{
 "cells": [
  {
   "cell_type": "markdown",
   "metadata": {},
   "source": [
    "\n",
    "Nama : Masayu Anandita\n",
    "Batch : RMT-26\n",
    "\n",
    "\n",
    "Untuk menguji kemampuan dalam bahasa programman Phyton meliputi conditional, loop dan function hingga testing."
   ]
  },
  {
   "cell_type": "markdown",
   "metadata": {},
   "source": [
    "Answer No. 1"
   ]
  },
  {
   "cell_type": "code",
   "execution_count": 19,
   "metadata": {},
   "outputs": [
    {
     "name": "stdout",
     "output_type": "stream",
     "text": [
      "720\n"
     ]
    }
   ],
   "source": [
    "def calories_burned(duration, exercise):\n",
    "    '''\n",
    "    This function for calculate total burned calories from duration and exercise type\n",
    "    '''\n",
    "\n",
    "    activity = {'berlari' : 10 , 'bersepeda' : 8, 'berenang' : 12}\n",
    "    \n",
    "    #conditional for calculate total calories burned based on duration and exercise type\n",
    "    if exercise in activity:\n",
    "        total_calories = activity[exercise] * duration\n",
    "        return total_calories\n",
    "\n",
    "total_calories = calories_burned(duration= 60, exercise='berenang')\n",
    "print(total_calories)"
   ]
  },
  {
   "cell_type": "markdown",
   "metadata": {},
   "source": [
    "Unit testing for No. 1"
   ]
  },
  {
   "cell_type": "code",
   "execution_count": 20,
   "metadata": {},
   "outputs": [
    {
     "name": "stderr",
     "output_type": "stream",
     "text": [
      "."
     ]
    },
    {
     "name": "stdout",
     "output_type": "stream",
     "text": [
      "720\n"
     ]
    },
    {
     "name": "stderr",
     "output_type": "stream",
     "text": [
      "\n",
      "----------------------------------------------------------------------\n",
      "Ran 1 test in 0.002s\n",
      "\n",
      "OK\n"
     ]
    },
    {
     "data": {
      "text/plain": [
       "<unittest.main.TestProgram at 0x1dbf0f61e50>"
      ]
     },
     "execution_count": 20,
     "metadata": {},
     "output_type": "execute_result"
    }
   ],
   "source": [
    "import unittest\n",
    "\n",
    "class UnitTest(unittest.TestCase) :\n",
    "  def test_calories_burned(self):\n",
    "    result = calories_burned(duration= 60, exercise='berenang')\n",
    "    print(result)\n",
    "    self.assertEqual(result, 720)\n",
    "\n",
    "unittest.main(argv=[''], exit= False)"
   ]
  },
  {
   "cell_type": "markdown",
   "metadata": {},
   "source": [
    "Answer No. 2"
   ]
  },
  {
   "cell_type": "code",
   "execution_count": 41,
   "metadata": {},
   "outputs": [
    {
     "name": "stdout",
     "output_type": "stream",
     "text": [
      "150\n"
     ]
    }
   ],
   "source": [
    "def total_session_burned_cal(each_session_duration, *ex_activity):\n",
    "    '''\n",
    "    This function for calculate total burned calories from each session duration\n",
    "    '''\n",
    "\n",
    "    total = 0\n",
    "    #to calculate total calories from each session exercise\n",
    "    for n in ex_activity:\n",
    "        total += calories_burned(each_session_duration, exercise=n)\n",
    "    return total\n",
    "\n",
    "total = total_session_burned_cal(5, 'berenang', 'berlari', 'bersepeda')\n",
    "print(total)"
   ]
  },
  {
   "cell_type": "markdown",
   "metadata": {},
   "source": [
    "Unit testing no.2"
   ]
  },
  {
   "cell_type": "code",
   "execution_count": 42,
   "metadata": {},
   "outputs": [
    {
     "name": "stderr",
     "output_type": "stream",
     "text": [
      "."
     ]
    },
    {
     "name": "stdout",
     "output_type": "stream",
     "text": [
      "150\n"
     ]
    },
    {
     "name": "stderr",
     "output_type": "stream",
     "text": [
      "\n",
      "----------------------------------------------------------------------\n",
      "Ran 1 test in 0.002s\n",
      "\n",
      "OK\n"
     ]
    },
    {
     "data": {
      "text/plain": [
       "<unittest.main.TestProgram at 0x1dbf129e340>"
      ]
     },
     "execution_count": 42,
     "metadata": {},
     "output_type": "execute_result"
    }
   ],
   "source": [
    "import unittest\n",
    "\n",
    "class UnitTest(unittest.TestCase) :\n",
    "  def test_total_session_burned_cal(self):\n",
    "    result = total_session_burned_cal(5, 'berenang', 'berlari', 'bersepeda')\n",
    "    print(result)\n",
    "    self.assertEqual(result, 150)\n",
    "\n",
    "unittest.main(argv=[''], exit= False)"
   ]
  }
 ],
 "metadata": {
  "kernelspec": {
   "display_name": "Python 3",
   "language": "python",
   "name": "python3"
  },
  "language_info": {
   "codemirror_mode": {
    "name": "ipython",
    "version": 3
   },
   "file_extension": ".py",
   "mimetype": "text/x-python",
   "name": "python",
   "nbconvert_exporter": "python",
   "pygments_lexer": "ipython3",
   "version": "3.8.10"
  }
 },
 "nbformat": 4,
 "nbformat_minor": 2
}
